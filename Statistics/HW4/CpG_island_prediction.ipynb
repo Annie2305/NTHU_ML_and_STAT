{
  "nbformat": 4,
  "nbformat_minor": 0,
  "metadata": {
    "colab": {
      "provenance": []
    },
    "kernelspec": {
      "name": "python3",
      "display_name": "Python 3"
    },
    "language_info": {
      "name": "python"
    }
  },
  "cells": [
    {
      "cell_type": "code",
      "execution_count": null,
      "metadata": {
        "id": "ysilQ5MsJbL4"
      },
      "outputs": [],
      "source": [
        "import pandas as pd\n",
        "import numpy as np\n",
        "import matplotlib.pyplot as plt\n",
        "from math import log2\n",
        "import statistics"
      ]
    },
    {
      "cell_type": "markdown",
      "source": [
        "Read the file (.txt)"
      ],
      "metadata": {
        "id": "p2HN_p-eKvb2"
      }
    },
    {
      "cell_type": "code",
      "source": [
        "def read_fasta(file_path):\n",
        "    with open(file_path, 'r') as file:\n",
        "        content = file.read().strip().split(\"\\n\")\n",
        "\n",
        "    sequences = {\"CpG\": {}, \"non_CpG\": {}}\n",
        "    current_type = None\n",
        "    current_seq_id = None\n",
        "\n",
        "    for line in content:\n",
        "        line = line.strip()\n",
        "        if line.startswith(\"CpG island sequences:\"):\n",
        "            current_type = \"CpG\"\n",
        "        elif line.startswith(\"Non-CpG island sequences:\"):\n",
        "            current_type = \"non_CpG\"\n",
        "        elif line.startswith(\">\"):\n",
        "            current_seq_id = line[1:].strip()\n",
        "            sequences[current_type][current_seq_id] = \"\"\n",
        "        elif current_type and current_seq_id:\n",
        "            sequences[current_type][current_seq_id] += line\n",
        "\n",
        "    return sequences\n",
        "\n",
        "file_path = \"/content/CpG_island_sequences_2024.txt\"\n",
        "sequences = read_fasta(file_path)\n",
        "print(sequences)"
      ],
      "metadata": {
        "colab": {
          "base_uri": "https://localhost:8080/"
        },
        "id": "NjDOrzV9Kzeg",
        "outputId": "f66740ea-f797-45e8-fd44-dab2c62308a5"
      },
      "execution_count": null,
      "outputs": [
        {
          "output_type": "stream",
          "name": "stdout",
          "text": [
            "{'CpG': {'seq+_1': 'CATTCCGCCTTCTCTCCCGAGGTGGCGCGTGGGAGGTGT', 'seq+_2': 'GGAGGTGTTTTGCTCGGGTTCTGTAAGAATAGGCCAG', 'seq+_3': 'GCAGCTTCCCGCGGGATGCGCTCATCCCCTCTCG', 'seq+_4': 'CGGGGTTCCGCTCCCACCGCGCCGCGTTCGGCCGGT', 'seq+_5': 'TCCGCCTGCGAGATGTTTTCCGACGGACAATGATTCC', 'seq+_6': 'CACTCTCGGCGCCTCCCATGTTGATCCCAGCTC', 'seq+_7': 'CTCTGCGGGCGTCAGGACCCCTGGGCCCCGCCCCGC', 'seq+_8': 'CTCCACTCAGTCAATCTTTTGTCCCCGTATAAGG', 'seq+_9': 'CGGATTATCGGGGTGGCTGGGGGCGGCTGATTC', 'seq+_10': 'CGAATGCCCTTGGGGGTCACCCGGGAGGGA', 'seq+_11': 'ACTCCGGGCTCCGGCTTTGGCCAGCCCGCACCCCTGGTTGAGCCGGCCCGAGGGCCACCAGGGGGC', 'seq+_12': 'GCTCGATGTTCCTGCAGCCCCCCGCAGCAGCCCCACTCCCCGGCTCACCCTACGATTGGCTGGCCGCC', 'seq+_13': 'CCGAGCTCTGTGCTGTGATTGGTCACAGCCCGTGTCCG', 'seq+_14': 'CGGGCGCCGGGGCGGATACGAGGTGA', 'seq+_15': 'CGCGCAGAGGCCCAGCTCGGGGCGGTGTCCCGCGCCGGCGACTGCGGGCGGAGTTTCGCGAGGGC', 'seq+_16': 'CGAAGCGGGGCAGTGTGACGGCAGCGGTCCTGGGAGGCGCCCGCGCGCGTCGGAGCAGCTCCCCG', 'seq+_17': 'TCCTCCGCAGCCGTCACCGCCGGCCGTCGCCGCGCCCTGGCCTCCCGCACTCGCGCACTCCTGTCCGC', 'seq+_18': 'CGCCCACCGCCCACCTCCCACCTCGATGCGGTGCCG', 'seq+_19': 'TGCCGGGCTGCTGCGTGATGGGGCTGCGGAGCGGCG', 'seq+_20': 'CCCTGCGGCTCGCGGCGGCCGCTGCTCGCGCTGAGGTGCGTCGGTGCCCGGCCCCCCGCGCCCCCGC', 'seq+_21': 'GCGCCGCGGCTCCTGTTGACCCGGTCCGCCCGTCGGTCTGCAGCGCGGCTGAGGTAAGGCGGCGGG', 'seq+_22': 'GCTGGCCGCGGTTGGCGCCGCGGTCGCGGGGTTGGGGAGGGGGCCTTCCGCGGGGAGGAGCGGC'}, 'non_CpG': {'seq-_1': 'CTCTTAGTTTTGGGTGCATTTGTCTGGTCTTCCAAAC', 'seq-_2': 'TAGATTGAAAGCTCTGAAAAAAAAAACTATCTT', 'seq-_3': 'GTGTTTCTATCTGTTGAGCTCATAGTAGGTATCCA', 'seq-_4': 'CCAGGAAGTAGTAGGGTTGACTGCATTGATTTGGGAC', 'seq-_5': 'TACACTGGGAGTTTTCTTCGCCATCTCCCTTTAGTTTT', 'seq-_6': 'CCTTTTTTTCTTTCTTTCTTTTCTTTTTTTTCTTT', 'seq-_7': 'TTTTTTTTGAGATGTCGTCTTGCTCAGTCCCCCAG', 'seq-_8': 'AGCCTCCACCTCCCAGGTTCAAGCAATTCTACTGCCTT', 'seq-_9': 'AGCCTCCCGAGTAGCTGGGATTACAAGCACCCGC', 'seq-_10': 'CACCATTCCTGGCTAATTTTTTTTTTTGTATTTTTAGTTGAGACAGGGTTTCACCATGTTGGTGATGCTG', 'seq-_11': 'GTCTCAGACTCCTGGGGCCTAGCGATCCCCCTGCCTCAGCCTCCCAGAGTGTTAGGATTACAGGCATGA', 'seq-_12': 'GCCACTGTACCCGGCCTCTCTCCAGTTTCCAGTTGGAATCCAAGGGAAGTAAGTTTAAGATAAAGTTAC', 'seq-_13': 'GATTTTGAAATCTTTGGATTCAGAAGAATTTGTCACCTTTAACACCTAGAGTTGAACGTTCATACCTGGA', 'seq-_14': 'GAGCCTTAACATTAAGCCCTAGCCAGCCTCCAGCAAGTGGACATTGGTCAGGTTTGGCAGGATTCGTC', 'seq-_15': 'CCCTGAAGTGGACTGAGAGCCACACCCTGGCCTGTCACCATACCCATCCCCTATCCTTAGTGAAGCAAA', 'seq-_16': 'ACTCCTTTGTTCCCTTCTCCTTCTCCTAGTGACAGGAAATATTGTGATCCTAAAGAATGAAAATAGCTTGT', 'seq-_17': 'CACCTCGTGGCCTCAGGCCTCTTGACTTCAG', 'seq-_18': 'GCGGTTCTGTTTAATCAAGTGACATCTTCCCGAGGC', 'seq-_19': 'TCCCTGAATGTGGCAGATGAAAGAGACTAGTTCAA', 'seq-_20': 'CCCTGACCTGAGGGGAAAGCCTTTGTGAA'}}\n"
          ]
        }
      ]
    },
    {
      "cell_type": "markdown",
      "source": [
        "# CpG island sequences analysis\n"
      ],
      "metadata": {
        "id": "OFeRqkv2d07u"
      }
    },
    {
      "cell_type": "code",
      "source": [
        "cpg_sequences = list(sequences[\"CpG\"].values())\n",
        "\n",
        "\n",
        "counts = {\n",
        "    \"A\": {\"A\": 0, \"T\": 0, \"C\": 0, \"G\": 0},\n",
        "    \"T\": {\"A\": 0, \"T\": 0, \"C\": 0, \"G\": 0},\n",
        "    \"C\": {\"A\": 0, \"T\": 0, \"C\": 0, \"G\": 0},\n",
        "    \"G\": {\"A\": 0, \"T\": 0, \"C\": 0, \"G\": 0}\n",
        "}\n",
        "\n",
        "for seq in cpg_sequences:\n",
        "  for i in range(len(seq)-1):\n",
        "    current = seq[i]\n",
        "    next = seq[i+1]\n",
        "    counts[current][next] += 1\n",
        "\n",
        "\n",
        "for current, transitions in counts.items():\n",
        "  print(f'{current}:{transitions}')\n",
        "\n",
        "# Convert counts to a pandas DataFrame\n",
        "cpg_df = pd.DataFrame(counts).T  # Transpose to match rows and columns\n",
        "\n",
        "# Print the matrix\n",
        "print(cpg_df)"
      ],
      "metadata": {
        "colab": {
          "base_uri": "https://localhost:8080/"
        },
        "id": "l4V0Sv59aTSf",
        "outputId": "73c90599-424a-4fdc-969b-40c7faaacda2"
      },
      "execution_count": null,
      "outputs": [
        {
          "output_type": "stream",
          "name": "stdout",
          "text": [
            "A:{'A': 8, 'T': 21, 'C': 24, 'G': 43}\n",
            "T:{'A': 8, 'T': 32, 'C': 66, 'G': 61}\n",
            "C:{'A': 38, 'T': 63, 'C': 137, 'G': 130}\n",
            "G:{'A': 43, 'T': 50, 'C': 138, 'G': 130}\n",
            "    A   T    C    G\n",
            "A   8  21   24   43\n",
            "T   8  32   66   61\n",
            "C  38  63  137  130\n",
            "G  43  50  138  130\n"
          ]
        }
      ]
    },
    {
      "cell_type": "code",
      "source": [
        "cpg_trans_probs = cpg_df.apply(lambda row: row/row.sum(), axis = 1)\n",
        "print(cpg_trans_probs)"
      ],
      "metadata": {
        "colab": {
          "base_uri": "https://localhost:8080/"
        },
        "id": "SWZULEnodHsE",
        "outputId": "4e8010e9-9e6b-4a96-a5ea-43e0fa794111"
      },
      "execution_count": null,
      "outputs": [
        {
          "output_type": "stream",
          "name": "stdout",
          "text": [
            "          A         T         C         G\n",
            "A  0.083333  0.218750  0.250000  0.447917\n",
            "T  0.047904  0.191617  0.395210  0.365269\n",
            "C  0.103261  0.171196  0.372283  0.353261\n",
            "G  0.119114  0.138504  0.382271  0.360111\n"
          ]
        }
      ]
    },
    {
      "cell_type": "markdown",
      "source": [
        "# non CpG island sequences analysis"
      ],
      "metadata": {
        "id": "NDGfbmi4d__r"
      }
    },
    {
      "cell_type": "code",
      "source": [
        "non_cpg_sequences = list(sequences[\"non_CpG\"].values())\n",
        "\n",
        "\n",
        "counts = {\n",
        "    \"A\": {\"A\": 0, \"T\": 0, \"C\": 0, \"G\": 0},\n",
        "    \"T\": {\"A\": 0, \"T\": 0, \"C\": 0, \"G\": 0},\n",
        "    \"C\": {\"A\": 0, \"T\": 0, \"C\": 0, \"G\": 0},\n",
        "    \"G\": {\"A\": 0, \"T\": 0, \"C\": 0, \"G\": 0}\n",
        "}\n",
        "\n",
        "for seq in non_cpg_sequences:\n",
        "  for i in range(len(seq)-1):\n",
        "    current = seq[i]\n",
        "    next = seq[i+1]\n",
        "    counts[current][next] += 1\n",
        "\n",
        "for current, transitions in counts.items():\n",
        "  print(f'{current}:{transitions}')\n",
        "\n",
        "# Convert counts to a pandas DataFrame\n",
        "non_cpg_df = pd.DataFrame(counts).T  # Transpose to match rows and columns\n",
        "\n",
        "# Print the matrix\n",
        "print(non_cpg_df)"
      ],
      "metadata": {
        "colab": {
          "base_uri": "https://localhost:8080/"
        },
        "id": "wrt8_ly-eGGP",
        "outputId": "5b6af4d8-0855-4bba-9f3b-a7028cebaa4c"
      },
      "execution_count": null,
      "outputs": [
        {
          "output_type": "stream",
          "name": "stdout",
          "text": [
            "A:{'A': 55, 'T': 42, 'C': 37, 'G': 70}\n",
            "T:{'A': 40, 'T': 121, 'C': 69, 'G': 65}\n",
            "C:{'A': 55, 'T': 79, 'C': 81, 'G': 11}\n",
            "G:{'A': 57, 'T': 54, 'C': 38, 'G': 45}\n",
            "    A    T   C   G\n",
            "A  55   42  37  70\n",
            "T  40  121  69  65\n",
            "C  55   79  81  11\n",
            "G  57   54  38  45\n"
          ]
        }
      ]
    },
    {
      "cell_type": "code",
      "source": [
        "non_cpg_trans_probs = non_cpg_df.apply(lambda row: row/row.sum(), axis = 1)\n",
        "print(non_cpg_trans_probs)"
      ],
      "metadata": {
        "colab": {
          "base_uri": "https://localhost:8080/"
        },
        "id": "G4jpTW_pf7Lx",
        "outputId": "74ce0444-5cc3-4408-ebbb-94fd79e8fef8"
      },
      "execution_count": null,
      "outputs": [
        {
          "output_type": "stream",
          "name": "stdout",
          "text": [
            "          A         T         C         G\n",
            "A  0.269608  0.205882  0.181373  0.343137\n",
            "T  0.135593  0.410169  0.233898  0.220339\n",
            "C  0.243363  0.349558  0.358407  0.048673\n",
            "G  0.293814  0.278351  0.195876  0.231959\n"
          ]
        }
      ]
    },
    {
      "cell_type": "markdown",
      "source": [
        "# Length normalized score visualization"
      ],
      "metadata": {
        "id": "CT51E0sugvux"
      }
    },
    {
      "cell_type": "markdown",
      "source": [
        "Log-odd ratio"
      ],
      "metadata": {
        "id": "kLVSPBgAm6u9"
      }
    },
    {
      "cell_type": "code",
      "source": [
        "log_odd_ratio = np.log2(cpg_trans_probs/non_cpg_trans_probs)\n",
        "print(log_odd_ratio)"
      ],
      "metadata": {
        "colab": {
          "base_uri": "https://localhost:8080/"
        },
        "id": "DQ8EqTqcgy07",
        "outputId": "2c9ec2fd-4c6b-4b5e-e833-f4d2df50bf7c"
      },
      "execution_count": null,
      "outputs": [
        {
          "output_type": "stream",
          "name": "stdout",
          "text": [
            "          A         T         C         G\n",
            "A -1.693897  0.087463  0.462972  0.384445\n",
            "T -1.501061 -1.097996  0.756737  0.729236\n",
            "C -1.236815 -1.029884  0.054799  2.859553\n",
            "G -1.302567 -1.006973  0.964655  0.634573\n"
          ]
        }
      ]
    },
    {
      "cell_type": "markdown",
      "source": [
        "Count the normalized scores"
      ],
      "metadata": {
        "id": "TFNabVKrnBvX"
      }
    },
    {
      "cell_type": "code",
      "source": [
        "cpg_scores = []\n",
        "non_cpg_scores = []\n",
        "\n",
        "for seq in cpg_sequences:\n",
        "  score = 0\n",
        "  for i in range(len(seq)-1):\n",
        "    current = seq[i]\n",
        "    next = seq[i+1]\n",
        "    score += log_odd_ratio[current][next]\n",
        "\n",
        "  normalized_score = score/len(seq)\n",
        "  cpg_scores.append(normalized_score)\n",
        "\n",
        "for seq in non_cpg_sequences:\n",
        "  score = 0\n",
        "  for i in range(len(seq)-1):\n",
        "    current = seq[i]\n",
        "    next = seq[i+1]\n",
        "    score += log_odd_ratio[current][next]\n",
        "\n",
        "  normalized_score = score/len(seq)\n",
        "  non_cpg_scores.append(normalized_score)\n",
        "\n",
        "print(f\"cpg scores: {cpg_scores}\")\n",
        "print(f\"non cpg scores: {non_cpg_scores}\")"
      ],
      "metadata": {
        "colab": {
          "base_uri": "https://localhost:8080/"
        },
        "id": "ntnfflCYhi2I",
        "outputId": "ee7001d6-8b1c-44ac-f866-1f2fc508dcc6"
      },
      "execution_count": null,
      "outputs": [
        {
          "output_type": "stream",
          "name": "stdout",
          "text": [
            "cpg scores: [0.2257874143128051, -0.1033289236985249, 0.3669935652646054, 0.6222672069824733, -0.16684253636821128, 0.09524886151728934, 0.5293390189502756, -0.34829600406207506, 0.2768953325510551, 0.11035833241688149, 0.4237587570066487, 0.3481835836840648, 0.11487150376450612, 0.5700521454746801, 0.6809299936684262, 0.5939485994096257, 0.6064825491331106, 0.3381916236241276, 0.7533158782548834, 0.8498086891150488, 0.6071158456850204, 0.7179663050948687]\n",
            "non cpg scores: [-0.3104398201594218, -0.7433905117397133, -0.22056499549643266, -0.2467429867911156, -0.27262682767961777, -0.7060034685718887, -0.3398220243050967, -0.09727340228682613, 0.14733585394897397, -0.4246581511919092, 0.035791803209336365, -0.304182864117844, -0.55129581785314, -0.06970832469472621, -0.17325230360952998, -0.4703076499287748, 0.0321078266235839, -0.17351935714026004, -0.397118673721969, -0.19406331311509117]\n"
          ]
        }
      ]
    },
    {
      "cell_type": "code",
      "source": [
        "# Plot the histograms\n",
        "plt.hist(cpg_scores, bins=20, alpha=0.7, label='CpG Island', color='blue')\n",
        "plt.hist(non_cpg_scores, bins=20, alpha=0.7, label='Non-CpG Island', color='red')\n",
        "\n",
        "# Add a cutoff line\n",
        "plt.axvline(x=0.06, color='black', linestyle='--', label='Cutoff Line')\n",
        "\n",
        "# Add labels and legend\n",
        "plt.xlabel('Bits')\n",
        "plt.ylabel('Count')\n",
        "plt.title('Length normalized scores for all the sequences')\n",
        "plt.legend()\n",
        "\n",
        "# Show the plot\n",
        "plt.show()"
      ],
      "metadata": {
        "colab": {
          "base_uri": "https://localhost:8080/",
          "height": 472
        },
        "id": "XeFTGWtNkL_g",
        "outputId": "2b7669a8-dcd8-4bab-e62e-1ffbbaf4b808"
      },
      "execution_count": null,
      "outputs": [
        {
          "output_type": "display_data",
          "data": {
            "text/plain": [
              "<Figure size 640x480 with 1 Axes>"
            ],
            "image/png": "[encoded data removed]"
          },
          "metadata": {}
        }
      ]
    },
    {
      "cell_type": "markdown",
      "source": [
        "# Prediction"
      ],
      "metadata": {
        "id": "NJx7aMdslX0x"
      }
    },
    {
      "cell_type": "code",
      "source": [
        "test = ['GCACCGGAGTCCGGAGAACTGAAGTCCGCCAAGACAAATTAGTTCACTGTAGAAGGGCTCCGAGGGA']\n",
        "\n",
        "seq = test[0]\n",
        "\n",
        "counts = {\n",
        "    \"A\": {\"A\": 0, \"T\": 0, \"C\": 0, \"G\": 0},\n",
        "    \"T\": {\"A\": 0, \"T\": 0, \"C\": 0, \"G\": 0},\n",
        "    \"C\": {\"A\": 0, \"T\": 0, \"C\": 0, \"G\": 0},\n",
        "    \"G\": {\"A\": 0, \"T\": 0, \"C\": 0, \"G\": 0}\n",
        "}\n",
        "\n",
        "for i in range(len(seq)-1):\n",
        "  current = seq[i]\n",
        "  next = seq[i+1]\n",
        "  counts[current][next] += 1\n",
        "\n",
        "for current, transitions in counts.items():\n",
        "  print(f'{current}:{transitions}')\n",
        "\n",
        "test_df = pd.DataFrame(counts).T\n",
        "print('test transition matrix')\n",
        "print(test_df)\n",
        "\n",
        "test_trans_probs = test_df.apply(lambda row:row/row.sum(), axis = 1)\n",
        "print('test transition probability')\n",
        "print(test_trans_probs)"
      ],
      "metadata": {
        "colab": {
          "base_uri": "https://localhost:8080/"
        },
        "id": "ccvDUkFnlbO5",
        "outputId": "2b3d0dfe-333f-4e53-f9d9-02d1ac913d4d"
      },
      "execution_count": null,
      "outputs": [
        {
          "output_type": "stream",
          "name": "stdout",
          "text": [
            "A:{'A': 6, 'T': 1, 'C': 4, 'G': 8}\n",
            "T:{'A': 2, 'T': 2, 'C': 4, 'G': 2}\n",
            "C:{'A': 4, 'T': 3, 'C': 5, 'G': 4}\n",
            "G:{'A': 8, 'T': 4, 'C': 3, 'G': 6}\n",
            "test transition matrix\n",
            "   A  T  C  G\n",
            "A  6  1  4  8\n",
            "T  2  2  4  2\n",
            "C  4  3  5  4\n",
            "G  8  4  3  6\n",
            "test transition probability\n",
            "          A         T         C         G\n",
            "A  0.315789  0.052632  0.210526  0.421053\n",
            "T  0.200000  0.200000  0.400000  0.200000\n",
            "C  0.250000  0.187500  0.312500  0.250000\n",
            "G  0.380952  0.190476  0.142857  0.285714\n"
          ]
        }
      ]
    },
    {
      "cell_type": "markdown",
      "source": [
        "Normalized score"
      ],
      "metadata": {
        "id": "BiTqzaa-ou2A"
      }
    },
    {
      "cell_type": "code",
      "source": [
        "test_score = []\n",
        "test = ['GCACCGGAGTCCGGAGAACTGAAGTCCGCCAAGACAAATTAGTTCACTGTAGAAGGGCTCCGAGGGA']\n",
        "\n",
        "for seq in test:\n",
        "  score = 0\n",
        "  for i in range(len(seq)-1):\n",
        "    current = seq[i]\n",
        "    next = seq[i+1]\n",
        "    score += log_odd_ratio[current][next]\n",
        "    normalized_score = score/len(seq)\n",
        "  test_score.append(normalized_score)\n",
        "\n",
        "print(f\"test score: {test_score}\")"
      ],
      "metadata": {
        "colab": {
          "base_uri": "https://localhost:8080/"
        },
        "id": "sQ1VAu81ozUy",
        "outputId": "e303f03a-2a46-473c-b5cc-39e08fd57e4e"
      },
      "execution_count": null,
      "outputs": [
        {
          "output_type": "stream",
          "name": "stdout",
          "text": [
            "test score: [-0.12766393006297755]\n"
          ]
        }
      ]
    },
    {
      "cell_type": "markdown",
      "source": [
        "Analysis"
      ],
      "metadata": {
        "id": "5kvMinYIpZ3j"
      }
    },
    {
      "cell_type": "code",
      "source": [
        "mean_cpg = statistics.mean(cpg_scores)\n",
        "mean_non_cpg = statistics.mean(non_cpg_scores)\n",
        "\n",
        "median_cpg = statistics.median(cpg_scores)\n",
        "median_non_cpg = statistics.median(non_cpg_scores)\n",
        "\n",
        "print(\"Mean of CpG scores:\", mean_cpg)\n",
        "print(\"Median of CpG scores:\", median_cpg)\n",
        "\n",
        "print(\"Mean of non-CpG scores:\", mean_non_cpg)\n",
        "print(\"Median of non-CpG scores:\", median_non_cpg)"
      ],
      "metadata": {
        "colab": {
          "base_uri": "https://localhost:8080/"
        },
        "id": "La7I29B6pbmc",
        "outputId": "311e981f-556e-4dbe-b734-6780748d5c5b"
      },
      "execution_count": null,
      "outputs": [
        {
          "output_type": "stream",
          "name": "stdout",
          "text": [
            "Mean of CpG scores: 0.37332035189916296\n",
            "Median of CpG scores: 0.39537616113562707\n",
            "Mean of non-CpG scores: -0.2739867504310731\n",
            "Median of non-CpG scores: -0.2596849072353667\n"
          ]
        }
      ]
    },
    {
      "cell_type": "code",
      "source": [
        "# Plot the histograms\n",
        "plt.hist(cpg_scores, bins=20, alpha=0.7, label='CpG Island', color='blue')\n",
        "plt.hist(non_cpg_scores, bins=20, alpha=0.7, label='Non-CpG Island', color='red')\n",
        "plt.axvline(x=test_score, color='green', linestyle='-', label='Test Score')\n",
        "\n",
        "# Add a cutoff line at x=0\n",
        "plt.axvline(x=0, color='black', linestyle='--', label='Cutoff Line')\n",
        "\n",
        "# Add labels and legend\n",
        "plt.xlabel('Bits')\n",
        "plt.ylabel('Count')\n",
        "plt.title('Length normalized scores for all the sequences')\n",
        "plt.legend()\n",
        "\n",
        "# Show the plot\n",
        "plt.show()"
      ],
      "metadata": {
        "colab": {
          "base_uri": "https://localhost:8080/",
          "height": 472
        },
        "id": "3Yc0mm1Kqw6g",
        "outputId": "c0eb5012-a76b-4a73-ccd7-de49002fea0c"
      },
      "execution_count": null,
      "outputs": [
        {
          "output_type": "display_data",
          "data": {
            "text/plain": [
              "<Figure size 640x480 with 1 Axes>"
            ],
            "image/png": "[encoded data removed]"
          },
          "metadata": {}
        }
      ]
    }
  ]
}